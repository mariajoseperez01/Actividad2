{
 "cells": [
  {
   "cell_type": "code",
   "execution_count": 1,
   "id": "39e419e0",
   "metadata": {},
   "outputs": [
    {
     "name": "stdout",
     "output_type": "stream",
     "text": [
      "Defaulting to user installation because normal site-packages is not writeable\n",
      "Requirement already satisfied: numpy in c:\\users\\maria.perez-z\\appdata\\roaming\\python\\python311\\site-packages (2.2.3)\n",
      "Note: you may need to restart the kernel to use updated packages.\n"
     ]
    },
    {
     "name": "stderr",
     "output_type": "stream",
     "text": [
      "DEPRECATION: Loading egg at c:\\program files\\python311\\lib\\site-packages\\vboxapi-1.0-py3.11.egg is deprecated. pip 25.1 will enforce this behaviour change. A possible replacement is to use pip for package installation. Discussion can be found at https://github.com/pypa/pip/issues/12330\n",
      "\n",
      "[notice] A new release of pip is available: 24.3.1 -> 25.0.1\n",
      "[notice] To update, run: python.exe -m pip install --upgrade pip\n"
     ]
    }
   ],
   "source": [
    "%pip install numpy"
   ]
  },
  {
   "cell_type": "markdown",
   "id": "19ffb284",
   "metadata": {},
   "source": [
    "# Hermitian Matrices, Unitary Matrices and Tensor Product"
   ]
  },
  {
   "cell_type": "markdown",
   "id": "007db568-62bf-4098-a52f-281b41db3012",
   "metadata": {},
   "source": [
    "\n",
    "# Understanding Complex Hermitian and Unitary Matrices\n",
    "\n",
    "This tutorial delves into two pivotal concepts in quantum computing and linear algebra: complex Hermitian and Unitary matrices. Both play critical roles in quantum mechanics and quantum computing, underpinning the behavior of quantum systems and the operations performed on them.\n",
    "\n",
    "## Objectives\n",
    "- Define and explore the properties of complex Hermitian matrices.\n",
    "- Understand and implement complex Unitary matrices in Python.\n",
    "- Highlight their significance and applications in quantum computing.\n",
    "\n",
    "Prepare to enhance your mathematical toolkit with these foundational concepts, illustrated with Python examples for a hands-on learning experience.\n"
   ]
  },
  {
   "cell_type": "markdown",
   "id": "172b4789-ccc2-41be-ae1b-fff456a76c41",
   "metadata": {},
   "source": [
    "\n",
    "## Complex Hermitian Matrices\n",
    "\n",
    "A Hermitian matrix, or self-adjoint matrix, is a square matrix that is equal to its own conjugate transpose. This property makes it a natural representation of observable quantities in quantum mechanics.\n",
    "\n",
    "### Properties\n",
    "- The eigenvalues of a Hermitian matrix are always real.\n",
    "- The eigenvectors of a Hermitian matrix corresponding to different eigenvalues are orthogonal.\n",
    "- Hermitian matrices are extensively used in quantum mechanics to describe physical observables.\n",
    "\n",
    "### Python Example: Defining a Hermitian Matrix\n"
   ]
  },
  {
   "cell_type": "code",
   "execution_count": null,
   "id": "be7b7f14-c501-4fd9-a482-73f4acf8bfd9",
   "metadata": {},
   "outputs": [],
   "source": [
    "\n",
    "import numpy as np\n",
    "\n",
    "# Define a complex Hermitian matrix\n",
    "hermitian_matrix = np.array([[2+0j, 2-1j], [2+1j, 3+0j]])\n",
    "\n",
    "# Check if the matrix is Hermitian\n",
    "is_hermitian = np.allclose(hermitian_matrix, hermitian_matrix.conj().T)\n",
    "\n",
    "is_hermitian, hermitian_matrix\n"
   ]
  },
  {
   "cell_type": "markdown",
   "id": "6c6e41c4-7edb-46e0-b5a3-9dc381541312",
   "metadata": {},
   "source": [
    "\n",
    "## Complex Unitary Matrices\n",
    "\n",
    "A Unitary matrix is a square matrix whose conjugate transpose is also its inverse. Unitary matrices preserve the inner product, making them essential for describing quantum gates and evolution in quantum computing.\n",
    "\n",
    "### Properties\n",
    "- Preserves the norm of vectors, hence preserving quantum states during transformations.\n",
    "- The determinant of a Unitary matrix has an absolute value of 1.\n",
    "- Used to represent reversible quantum operations and time evolution in quantum systems.\n",
    "\n",
    "### Python Example: Defining a Unitary Matrix\n"
   ]
  },
  {
   "cell_type": "code",
   "execution_count": null,
   "id": "72119954-9647-4f66-93e9-c014c05bb48c",
   "metadata": {},
   "outputs": [],
   "source": [
    "\n",
    "# Define a complex Unitary matrix\n",
    "unitary_matrix = np.array([[1/np.sqrt(2), 1/np.sqrt(2)], [1/np.sqrt(2)*1j, -1/np.sqrt(2)*1j]])\n",
    "\n",
    "# Check if the matrix is Unitary\n",
    "# np.eye(2) returns the identity of size 2x2\n",
    "is_unitary = np.allclose(np.dot(unitary_matrix, unitary_matrix.conj().T), np.eye(2))\n",
    "\n",
    "is_unitary, unitary_matrix\n"
   ]
  },
  {
   "cell_type": "markdown",
   "id": "85750bcf-34ab-49ab-9163-509b29e719c9",
   "metadata": {},
   "source": [
    "# Tensor product"
   ]
  },
  {
   "cell_type": "markdown",
   "id": "b85487ee-1d19-47ab-a0a7-e05c8b758b13",
   "metadata": {},
   "source": [
    "\n",
    "## Tensor Product for Complex Vectors\n",
    "\n",
    "The tensor product of two complex vectors creates a new vector in a higher-dimensional space, allowing us to combine quantum states in quantum computing.\n",
    "\n",
    "### Example\n"
   ]
  },
  {
   "cell_type": "code",
   "execution_count": null,
   "id": "c4619aad-e04f-4787-a8ff-8e324f13b816",
   "metadata": {},
   "outputs": [],
   "source": [
    "\n",
    "import numpy as np\n",
    "\n",
    "# Define two complex vectors for the tensor product\n",
    "v1 = np.array([1+2j, 3+4j])\n",
    "v2 = np.array([5+6j, 7+8j])\n",
    "\n",
    "# Calculate the tensor product\n",
    "tensor_product_v = np.kron(v1, v2)\n",
    "\n",
    "tensor_product_v\n"
   ]
  },
  {
   "cell_type": "markdown",
   "id": "aa89e379-8ce8-493d-8b0e-6461a7fc1325",
   "metadata": {},
   "source": [
    "\n",
    "## Tensor Product for Complex Matrices\n",
    "\n",
    "The tensor product for matrices combines individual matrices into a larger matrix, crucial for representing multiple qubit systems in quantum computing.\n",
    "\n",
    "### Example\n"
   ]
  },
  {
   "cell_type": "code",
   "execution_count": null,
   "id": "c558e2f2-8ecf-466a-8fb4-469566157419",
   "metadata": {},
   "outputs": [],
   "source": [
    "\n",
    "# Define two complex matrices for the tensor product\n",
    "M1 = np.array([[1+2j, 3+4j], [5+6j, 7+8j]])\n",
    "M2 = np.array([[9+10j, 11+12j], [13+14j, 15+16j]])\n",
    "\n",
    "# Calculate the tensor product\n",
    "tensor_product_m = np.kron(M1, M2)\n",
    "\n",
    "tensor_product_m\n"
   ]
  },
  {
   "cell_type": "markdown",
   "id": "92d32301",
   "metadata": {},
   "source": [
    "# Exercises on Complex Vector and Matrix Operations\n",
    "\n",
    "This set of exercises is designed to test your understanding of various concepts related to complex vector and matrix operations, which are foundational in quantum computing. Each exercise presents a concrete case for you to apply what you've learned about Hermitian matrices, Unitary matrices, and tensor products.\n",
    "\n",
    "NOTE: VERIFY YOUR COMPUTATIONS IN PAPER AND IN THE COMPUTER.\n"
   ]
  },
  {
   "cell_type": "markdown",
   "id": "fdd7f874",
   "metadata": {},
   "source": [
    "\n",
    "## Exercise 1: Complex Hermitian Matrices\n",
    "\n",
    "Consider the matrix:\n",
    "\n",
    "$$ H = \\begin{bmatrix} 3 & 2+i \\\\ 2-i & 1 \\end{bmatrix} $$\n",
    "\n",
    "- Verify if $ H $ is a Hermitian matrix.\n",
    "- If it is, find its eigenvalues.\n"
   ]
  },
  {
   "cell_type": "code",
   "execution_count": 2,
   "id": "5a164454",
   "metadata": {},
   "outputs": [
    {
     "data": {
      "text/plain": [
       "(True,\n",
       " array([[3.+0.j, 2.-1.j],\n",
       "        [2.+1.j, 1.+0.j]]))"
      ]
     },
     "execution_count": 2,
     "metadata": {},
     "output_type": "execute_result"
    }
   ],
   "source": [
    "import numpy as np\n",
    "\n",
    "# Define a complex Hermitian matrix\n",
    "hermitian_matrix = np.array([[3, 2-1j], [2+1j, 1]])\n",
    "\n",
    "# Check if the matrix is Hermitian\n",
    "is_hermitian = np.allclose(hermitian_matrix, hermitian_matrix.conj().T)\n",
    "\n",
    "is_hermitian, hermitian_matrix"
   ]
  },
  {
   "cell_type": "markdown",
   "id": "d8a764d0",
   "metadata": {},
   "source": [
    "## Exercise 2: Complex Unitary Matrices\n",
    "\n",
    "Consider the matrix:\n",
    "\n",
    "$$ U = \\frac{1}{\\sqrt{2}}\\begin{bmatrix} 1 & i \\\\ i & 1 \\end{bmatrix} $$\n",
    "\n",
    "- Verify if $ U $ is a Unitary matrix.\n",
    "- Compute $ UU^\\dagger $ to confirm its Unitarity, where $ U^\\dagger $ denotes the conjugate transpose of $ U $.\n"
   ]
  },
  {
   "cell_type": "code",
   "execution_count": 3,
   "id": "bbb58aa3",
   "metadata": {},
   "outputs": [
    {
     "data": {
      "text/plain": [
       "(True,\n",
       " array([[0.70710678+0.j        , 0.        +0.70710678j],\n",
       "        [0.        +0.70710678j, 0.70710678+0.j        ]]))"
      ]
     },
     "execution_count": 3,
     "metadata": {},
     "output_type": "execute_result"
    }
   ],
   "source": [
    "# Define a complex Unitary matrix\n",
    "unitary_matrix = np.array([[1/np.sqrt(2), 1/np.sqrt(2)*1j], [1/np.sqrt(2)*1j, 1/np.sqrt(2)]])\n",
    "\n",
    "# Check if the matrix is Unitary\n",
    "# np.eye(2) returns the identity of size 2x2\n",
    "is_unitary = np.allclose(np.dot(unitary_matrix, unitary_matrix.conj().T), np.eye(2))\n",
    "\n",
    "is_unitary, unitary_matrix"
   ]
  },
  {
   "cell_type": "markdown",
   "id": "3efa6733",
   "metadata": {},
   "source": [
    "## Exercise 3: Tensor Product for Complex Vectors\n",
    "\n",
    "Given the complex vectors:\n",
    "\n",
    "$$ \\mathbf{v} = \\begin{bmatrix} 1+i \\\\ 2-i \\end{bmatrix}, \\quad \\mathbf{w} = \\begin{bmatrix} 1-2i \\\\ 3 \\end{bmatrix} $$\n",
    "\n",
    "Calculate the tensor product $ \\mathbf{v} \\otimes \\mathbf{w} $."
   ]
  },
  {
   "cell_type": "code",
   "execution_count": 4,
   "id": "1d2f7f67",
   "metadata": {},
   "outputs": [
    {
     "data": {
      "text/plain": [
       "array([3.-1.j, 3.+3.j, 0.-5.j, 6.-3.j])"
      ]
     },
     "execution_count": 4,
     "metadata": {},
     "output_type": "execute_result"
    }
   ],
   "source": [
    "import numpy as np\n",
    "\n",
    "# Define two complex vectors for the tensor product\n",
    "v1 = np.array([1+1j, 2-1j])\n",
    "v2 = np.array([1-2j, 3])\n",
    "\n",
    "# Calculate the tensor product\n",
    "tensor_product_v = np.kron(v1, v2)\n",
    "\n",
    "tensor_product_v"
   ]
  },
  {
   "cell_type": "markdown",
   "id": "0aceea02",
   "metadata": {},
   "source": [
    "## Exercise 4: Tensor Product for Complex Matrices\n",
    "\n",
    "Given the matrices:\n",
    "\n",
    "$$ M_1 = \\begin{bmatrix} 0 & 1 \\\\ 1 & 0 \\end{bmatrix}, \\quad M_2 = \\begin{bmatrix} i & 0 \\\\ 0 & -i \\end{bmatrix} $$\n",
    "\n",
    "Calculate the tensor product $ M_1 \\otimes M_2 $."
   ]
  },
  {
   "cell_type": "code",
   "execution_count": 5,
   "id": "a0e4b8c9",
   "metadata": {},
   "outputs": [
    {
     "data": {
      "text/plain": [
       "array([[0.+0.j, 0.+0.j, 0.+1.j, 0.+0.j],\n",
       "       [0.+0.j, 0.-0.j, 0.+0.j, 0.-1.j],\n",
       "       [0.+1.j, 0.+0.j, 0.+0.j, 0.+0.j],\n",
       "       [0.+0.j, 0.-1.j, 0.+0.j, 0.-0.j]])"
      ]
     },
     "execution_count": 5,
     "metadata": {},
     "output_type": "execute_result"
    }
   ],
   "source": [
    "\n",
    "import numpy as np\n",
    "\n",
    "# Define two complex vectors for the tensor product\n",
    "v1 = np.array([[0, 1], [1, 0]])\n",
    "v2 = np.array([[1j, 0], [0, -1j]])\n",
    "\n",
    "# Calculate the tensor product\n",
    "tensor_product_v = np.kron(v1, v2)\n",
    "\n",
    "tensor_product_v"
   ]
  },
  {
   "cell_type": "markdown",
   "id": "719eff61",
   "metadata": {},
   "source": [
    "## Exercise 5: Modelling quantum computations with vectors and matrices\n",
    "\n",
    "Using matrices and vectors, implement a model of the Mach/Zehnder interferometer.\n",
    "\n",
    "![Mach-Zehnder interferometer](images/Mach-Zehnder-Interferometer.png)"
   ]
  },
  {
   "cell_type": "code",
   "execution_count": 8,
   "id": "a7c728d7",
   "metadata": {},
   "outputs": [
    {
     "name": "stdout",
     "output_type": "stream",
     "text": [
      "Estado inicial: [1 0]\n",
      "Después del primer BS: [0.70710678+0.j         0.        +0.70710678j]\n",
      "Después del cambiador de fase: [ 0.70710678+0.00000000e+00j -0.70710678+4.32978028e-17j]\n",
      "Después del espejo: [-0.70710678+4.32978028e-17j  0.70710678+0.00000000e+00j]\n",
      "Después del segundo BS: [-0.5+0.5j  0.5-0.5j]\n",
      "Estado de salida final: [-0.5+0.5j  0.5-0.5j]\n"
     ]
    }
   ],
   "source": [
    "import numpy as np\n",
    "\n",
    "def beam_splitter():\n",
    "    \"\"\"Matriz del divisor de haz (BS).\"\"\"\n",
    "    factor = 1 / np.sqrt(2)\n",
    "    BS = np.array([[1, 1j], [1j, 1]])\n",
    "    return factor * BS\n",
    "\n",
    "def mirror():\n",
    "    \"\"\"Matriz del espejo (M).\"\"\"\n",
    "    return np.array([[0, 1], [1, 0]])\n",
    "\n",
    "def phase_shifter(theta):\n",
    "    \"\"\"Matriz del cambiador de fase (P).\"\"\"\n",
    "    P = np.array([[1, 0], [0, np.exp(1j * theta)]])\n",
    "    return P\n",
    "\n",
    "def mach_zehnder(theta):\n",
    "    \"\"\"Simulación del interferómetro de Mach-Zehnder paso a paso.\"\"\"\n",
    "    # Estado inicial: el fotón comienza en el camino 0\n",
    "    psi_in = np.array([1, 0])\n",
    "    print(\"Estado inicial:\", psi_in)\n",
    "    \n",
    "    # Primer divisor de haz (BS)\n",
    "    BS1 = beam_splitter()\n",
    "    psi1 = np.dot(BS1, psi_in)\n",
    "    print(\"Después del primer BS:\", psi1)\n",
    "    \n",
    "    # Cambiador de fase (P)\n",
    "    P = phase_shifter(theta)\n",
    "    psi2 = np.dot(P, psi1)\n",
    "    print(\"Después del cambiador de fase:\", psi2)\n",
    "    \n",
    "    # Espejo (M)\n",
    "    M = mirror()\n",
    "    psi3 = np.dot(M, psi2)\n",
    "    print(\"Después del espejo:\", psi3)\n",
    "    \n",
    "    # Segundo divisor de haz (BS)\n",
    "    BS2 = beam_splitter()\n",
    "    psi_out = np.dot(BS2, psi3)\n",
    "    print(\"Después del segundo BS:\", psi_out)\n",
    "    \n",
    "    return psi_out\n",
    "\n",
    "# Definir el ángulo de fase\n",
    "theta = np.pi / 2  # 90 grados de fase\n",
    "resultado = mach_zehnder(theta)\n",
    "\n",
    "# Mostrar el resultado final\n",
    "print(\"Estado de salida final:\", resultado)"
   ]
  },
  {
   "cell_type": "markdown",
   "id": "cdb5f75a",
   "metadata": {},
   "source": [
    "## Exercise 6: Composing quantum systems \n",
    "\n",
    "Using matrices and vectors, implement a model of the following circuit.\n",
    "\n",
    "![Mach-Zehnder interferometer](images/Deutsch-Algorithm.png)\n",
    "\n",
    "Use the following MAtrix for $U_f$:\n",
    "\n",
    "![Mach-Zehnder interferometer](images/ExampleUf.png)\n"
   ]
  },
  {
   "cell_type": "code",
   "execution_count": 11,
   "id": "61d639f5",
   "metadata": {},
   "outputs": [
    {
     "name": "stdout",
     "output_type": "stream",
     "text": [
      "Estado inicial: [1 0 0 0]\n",
      "Después de Hadamard en ambos qubits: [0.5 0.5 0.5 0.5]\n",
      "Después de aplicar Uf: [0.5 0.5 0.5 0.5]\n",
      "Después de Hadamard en el primer qubit: [0.70710678 0.70710678 0.         0.        ]\n",
      "Probabilidad de medir |0⟩: 0.9999999999999996\n",
      "Probabilidad de medir |1⟩: 0.0\n",
      "Resultado final del algoritmo de Deutsch: 0\n"
     ]
    }
   ],
   "source": [
    "import numpy as np\n",
    "\n",
    "def hadamard(n):\n",
    "    \"\"\"Genera la matriz de Hadamard de tamaño 2^n x 2^n.\"\"\"\n",
    "    H = (1 / np.sqrt(2)) * np.array([[1, 1], [1, -1]])\n",
    "    if n == 2:\n",
    "        return np.kron(H, H)  # Producto de Kronecker para 2 qubits\n",
    "    return H\n",
    "\n",
    "def uf_matrix():\n",
    "    \"\"\"Matriz Uf proporcionada en la imagen.\"\"\"\n",
    "    return np.array([\n",
    "        [0, 1, 0, 0],\n",
    "        [1, 0, 0, 0],\n",
    "        [0, 0, 0, 1],\n",
    "        [0, 0, 1, 0]\n",
    "    ])\n",
    "\n",
    "def deutsch_algorithm():\n",
    "    \"\"\"Implementación paso a paso del algoritmo de Deutsch.\"\"\"\n",
    "    # 1. Estado inicial |0⟩ ⊗ |1⟩\n",
    "    psi = np.array([1, 0, 0, 0])  # Representación del estado |00⟩\n",
    "    print(\"Estado inicial:\", psi)\n",
    "    \n",
    "    # 2. Aplicar Hadamard en ambos qubits\n",
    "    H2 = hadamard(2)\n",
    "    psi = H2 @ psi\n",
    "    print(\"Después de Hadamard en ambos qubits:\", psi)\n",
    "    \n",
    "    # 3. Aplicar la función Uf\n",
    "    Uf = uf_matrix()\n",
    "    psi = Uf @ psi\n",
    "    print(\"Después de aplicar Uf:\", psi)\n",
    "    \n",
    "    # 4. Aplicar Hadamard en el primer qubit\n",
    "    H1 = np.kron(hadamard(1), np.eye(2))  # Hadamard solo en el primer qubit\n",
    "    psi = H1 @ psi\n",
    "    print(\"Después de Hadamard en el primer qubit:\", psi)\n",
    "    \n",
    "    # 5. Medir el primer qubit (nos interesa la probabilidad de |0⟩ o |1⟩)\n",
    "    prob_0 = np.abs(psi[0])**2 + np.abs(psi[1])**2\n",
    "    prob_1 = np.abs(psi[2])**2 + np.abs(psi[3])**2\n",
    "    \n",
    "    # 6. Decidir el resultado de la medición\n",
    "    resultado = 0 if prob_0 > prob_1 else 1\n",
    "    print(\"Probabilidad de medir |0⟩:\", prob_0)\n",
    "    print(\"Probabilidad de medir |1⟩:\", prob_1)\n",
    "    print(\"Resultado final del algoritmo de Deutsch:\", resultado)\n",
    "\n",
    "# Ejecutar el algoritmo\n",
    "deutsch_algorithm()\n",
    "\n"
   ]
  }
 ],
 "metadata": {
  "kernelspec": {
   "display_name": "Python 3",
   "language": "python",
   "name": "python3"
  },
  "language_info": {
   "codemirror_mode": {
    "name": "ipython",
    "version": 3
   },
   "file_extension": ".py",
   "mimetype": "text/x-python",
   "name": "python",
   "nbconvert_exporter": "python",
   "pygments_lexer": "ipython3",
   "version": "3.11.6"
  }
 },
 "nbformat": 4,
 "nbformat_minor": 5
}
